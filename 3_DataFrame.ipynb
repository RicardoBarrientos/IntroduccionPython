{
 "cells": [
  {
   "cell_type": "markdown",
   "id": "0d077bce-34e1-4c2d-9427-418800721b42",
   "metadata": {},
   "source": [
    "# **librerias Python**\n",
    "\n",
    "En Python, una biblioteca (o librería) es un conjunto de módulos que proporcionan funcionalidades adicionales al lenguaje Python. Las bibliotecas se utilizan para extender las capacidades de Python más allá de las funciones incorporadas en el lenguaje.\n",
    "\n",
    "Librerias Populares:\n",
    "\n",
    "* **Pandas:** Biblioteca para la manipulación y análisis de datos que proporciona estructuras de datos como DataFrames y Series, que facilitan el trabajo con datos estructurados.\n",
    "  https://pandas.pydata.org/docs/user_guide/index.html#user-guide\n",
    "* **Numpy:** Biblioteca de Python para realizar operaciones matemáticas y de álgebra lineal con arreglos multidimensionales y funciones matriciales."
   ]
  },
  {
   "cell_type": "code",
   "execution_count": 27,
   "id": "65fda842-5db9-4d71-8348-6b306202f88d",
   "metadata": {},
   "outputs": [],
   "source": [
    "import pandas as pd # con alias\n",
    "import numpy as np\n",
    "import os\n",
    "import warnings\n",
    "warnings.filterwarnings(\"ignore\",category=FutureWarning)"
   ]
  },
  {
   "cell_type": "code",
   "execution_count": 4,
   "id": "672d65b1-7f97-495c-8202-54bad1458a5c",
   "metadata": {},
   "outputs": [],
   "source": [
    "# Metodos para instalar las librerias si no existen en anaconda\n",
    "#!pip install pandas\n",
    "#!conda install pandas"
   ]
  },
  {
   "cell_type": "markdown",
   "id": "f0104c62-3702-45b4-a8f3-6064e5d4d622",
   "metadata": {},
   "source": [
    "# **Series de Pandas**\n",
    "\n",
    "En Pandas, una serie es un objeto unidimensional que se utiliza para almacenar datos etiquetados. Las series son similares a las listas o arrays de NumPy, pero tienen la capacidad adicional de asignar etiquetas a los datos, lo que permite un acceso más rápido y fácil a los datos almacenados."
   ]
  },
  {
   "cell_type": "code",
   "execution_count": 8,
   "id": "e98d8c92-f823-4599-ab45-b7d24a63e7aa",
   "metadata": {},
   "outputs": [
    {
     "data": {
      "text/plain": [
       "[25, 35, 56, 18]"
      ]
     },
     "execution_count": 8,
     "metadata": {},
     "output_type": "execute_result"
    }
   ],
   "source": [
    "ListaEdad = [25,35,56,18]\n",
    "ListaEdad"
   ]
  },
  {
   "cell_type": "code",
   "execution_count": 9,
   "id": "5705e534-8c5e-4889-9316-1d3adbe5e204",
   "metadata": {},
   "outputs": [
    {
     "data": {
      "text/plain": [
       "0    25\n",
       "1    35\n",
       "2    56\n",
       "3    18\n",
       "dtype: int64"
      ]
     },
     "execution_count": 9,
     "metadata": {},
     "output_type": "execute_result"
    }
   ],
   "source": [
    "## Podemos crearlas apartir de una lista\n",
    "\n",
    "SerieEdad=pd.Series(ListaEdad)\n",
    "SerieEdad"
   ]
  },
  {
   "cell_type": "code",
   "execution_count": 11,
   "id": "5de26178-48bb-41f0-a9a0-b7bc39b14d8b",
   "metadata": {},
   "outputs": [
    {
     "data": {
      "text/plain": [
       "[25, 35, 56, 69, 69, 18]"
      ]
     },
     "execution_count": 11,
     "metadata": {},
     "output_type": "execute_result"
    }
   ],
   "source": [
    "ListaEdad.insert(3,69)\n",
    "ListaEdad"
   ]
  },
  {
   "cell_type": "code",
   "execution_count": 13,
   "id": "51f65d81-0047-4236-8070-a1fcf3d96a45",
   "metadata": {},
   "outputs": [
    {
     "data": {
      "text/plain": [
       "25"
      ]
     },
     "execution_count": 13,
     "metadata": {},
     "output_type": "execute_result"
    }
   ],
   "source": [
    "## Acceder a los datos de la serie\n",
    "SerieEdad[0]"
   ]
  },
  {
   "cell_type": "code",
   "execution_count": 18,
   "id": "fdc3777f-94aa-4bb3-83d7-a2276a5b4fae",
   "metadata": {},
   "outputs": [
    {
     "data": {
      "text/plain": [
       "18"
      ]
     },
     "execution_count": 18,
     "metadata": {},
     "output_type": "execute_result"
    }
   ],
   "source": [
    "SerieEdad[3]"
   ]
  },
  {
   "cell_type": "code",
   "execution_count": 20,
   "id": "cbcffa9c-795f-42a2-b23a-6d51b4728bf0",
   "metadata": {},
   "outputs": [
    {
     "data": {
      "text/plain": [
       "25"
      ]
     },
     "execution_count": 20,
     "metadata": {},
     "output_type": "execute_result"
    }
   ],
   "source": [
    "## Crear una serie a partir de un diccionario\n",
    "Edad_Diccionarios={\"Sara\":25,\"Fabian\":35,\"Ricardo\":42}\n",
    "Edad_Diccionarios[\"Sara\"]"
   ]
  },
  {
   "cell_type": "code",
   "execution_count": 22,
   "id": "d85bc189-3b88-4017-be68-9385e1378dfb",
   "metadata": {},
   "outputs": [
    {
     "data": {
      "text/plain": [
       "Sara       25\n",
       "Fabian     35\n",
       "Ricardo    42\n",
       "dtype: int64"
      ]
     },
     "execution_count": 22,
     "metadata": {},
     "output_type": "execute_result"
    }
   ],
   "source": [
    "SerieDiccionarioEdad=pd.Series(Edad_Diccionarios)\n",
    "SerieDiccionarioEdad"
   ]
  },
  {
   "cell_type": "code",
   "execution_count": 24,
   "id": "5ca4969f-20ef-4f74-a205-db0a8343c1c0",
   "metadata": {},
   "outputs": [
    {
     "data": {
      "text/plain": [
       "25"
      ]
     },
     "execution_count": 24,
     "metadata": {},
     "output_type": "execute_result"
    }
   ],
   "source": [
    "SerieDiccionarioEdad[\"Sara\"]"
   ]
  },
  {
   "cell_type": "code",
   "execution_count": 29,
   "id": "9c41034c-dec8-4366-8137-10894ebe9a1a",
   "metadata": {},
   "outputs": [
    {
     "data": {
      "text/plain": [
       "Sara       25\n",
       "Fabian     35\n",
       "Ricardo    42\n",
       "Oscar      50\n",
       "Oscar      50\n",
       "Oscar      50\n",
       "Oscar      50\n",
       "dtype: int64"
      ]
     },
     "execution_count": 29,
     "metadata": {},
     "output_type": "execute_result"
    }
   ],
   "source": [
    "## Agregar un dato nuevo a la serie\n",
    "SerieDiccionarioEdad=SerieDiccionarioEdad.append(pd.Series(50,index=[\"Oscar\"]))\n",
    "SerieDiccionarioEdad"
   ]
  },
  {
   "cell_type": "markdown",
   "id": "4625eab5-ce63-4a3b-830e-54300a162e8d",
   "metadata": {},
   "source": [
    "# **DataFrame en Python (Tablas filas y columnas)**\n",
    "En Python, un DataFrame es una estructura de datos bidimensional, similar a una hoja de cálculo o una tabla de base de datos, que se utiliza para almacenar y manipular datos. Los DataFrames se utilizan comúnmente en el análisis de datos y la ciencia de datos, ya que permiten organizar y manipular grandes cantidades de datos de manera eficiente."
   ]
  },
  {
   "cell_type": "code",
   "execution_count": 33,
   "id": "6ba335d7-3cb6-4e9e-8499-9bb2f5c8c477",
   "metadata": {},
   "outputs": [
    {
     "data": {
      "text/plain": [
       "['Ana', 'Pedro', 'Sara', 'Ricardo', 'Julia', 'Sebastian', 'maria']"
      ]
     },
     "execution_count": 33,
     "metadata": {},
     "output_type": "execute_result"
    }
   ],
   "source": [
    "## Crearlos desde Listas\n",
    "Nombres=[\"Ana\",\"Pedro\",\"Sara\",\"Ricardo\",\"Julia\",\"Sebastian\",\"maria\"]\n",
    "Edad=[25,35,46,52,19,21,18]\n",
    "Salario=[250000,50000000,8000000,8500000,15000000,35000000,60000000]\n",
    "Cargo=[\"Aprediz\",\"Analista Financiero\",\"Desarrollador\",\"lider Técnico\",\"senador\",\"Manager TIC\"]\n",
    "Producto=[\"TC Estudiantil\",\"CDT\",\"TC ORO\",\"TC PREMIUM\",\"Libranza\",\"Hipoteca\"]\n",
    "len(Nombres)\n",
    "Nombres"
   ]
  },
  {
   "cell_type": "code",
   "execution_count": 35,
   "id": "0915c962-96d8-4882-b8e5-4cc228371428",
   "metadata": {},
   "outputs": [
    {
     "data": {
      "text/plain": [
       "[25, 35, 46, 52, 19, 21, 18]"
      ]
     },
     "execution_count": 35,
     "metadata": {},
     "output_type": "execute_result"
    }
   ],
   "source": [
    "Edad"
   ]
  },
  {
   "cell_type": "code",
   "execution_count": 37,
   "id": "d31e4fc8-7c3f-40ba-abc3-3814c2f073ec",
   "metadata": {},
   "outputs": [
    {
     "data": {
      "text/plain": [
       "[('Ana', 25, 250000, 'Aprediz', 'TC Estudiantil'),\n",
       " ('Pedro', 35, 50000000, 'Analista Financiero', 'CDT'),\n",
       " ('Sara', 46, 8000000, 'Desarrollador', 'TC ORO'),\n",
       " ('Ricardo', 52, 8500000, 'lider Técnico', 'TC PREMIUM'),\n",
       " ('Julia', 19, 15000000, 'senador', 'Libranza'),\n",
       " ('Sebastian', 21, 35000000, 'Manager TIC', 'Hipoteca')]"
      ]
     },
     "execution_count": 37,
     "metadata": {},
     "output_type": "execute_result"
    }
   ],
   "source": [
    "## Mapeamos las combinaciones con el comando zip\n",
    "Clientes=list(zip(Nombres,Edad,Salario,Cargo,Producto))\n",
    "Clientes"
   ]
  },
  {
   "cell_type": "code",
   "execution_count": 43,
   "id": "786fbc62-f9bd-4405-9ff3-7abd73ac2ff9",
   "metadata": {},
   "outputs": [],
   "source": [
    "## Aplicar la funcion pd.DataFrame para convertir finalmente en uan tabla\n",
    "BaseClientes=pd.DataFrame(Clientes,columns=[\"Nombre\",\"Edad\",\"Salario\",\"Cargo\",\"Prodcuto\"])"
   ]
  },
  {
   "cell_type": "code",
   "execution_count": 44,
   "id": "a54b47fe-76f7-4590-8dd9-59121b713054",
   "metadata": {},
   "outputs": [
    {
     "data": {
      "text/html": [
       "<div>\n",
       "<style scoped>\n",
       "    .dataframe tbody tr th:only-of-type {\n",
       "        vertical-align: middle;\n",
       "    }\n",
       "\n",
       "    .dataframe tbody tr th {\n",
       "        vertical-align: top;\n",
       "    }\n",
       "\n",
       "    .dataframe thead th {\n",
       "        text-align: right;\n",
       "    }\n",
       "</style>\n",
       "<table border=\"1\" class=\"dataframe\">\n",
       "  <thead>\n",
       "    <tr style=\"text-align: right;\">\n",
       "      <th></th>\n",
       "      <th>Nombre</th>\n",
       "      <th>Edad</th>\n",
       "      <th>Salario</th>\n",
       "      <th>Cargo</th>\n",
       "      <th>Prodcuto</th>\n",
       "    </tr>\n",
       "  </thead>\n",
       "  <tbody>\n",
       "    <tr>\n",
       "      <th>0</th>\n",
       "      <td>Ana</td>\n",
       "      <td>25</td>\n",
       "      <td>250000</td>\n",
       "      <td>Aprediz</td>\n",
       "      <td>TC Estudiantil</td>\n",
       "    </tr>\n",
       "    <tr>\n",
       "      <th>1</th>\n",
       "      <td>Pedro</td>\n",
       "      <td>35</td>\n",
       "      <td>50000000</td>\n",
       "      <td>Analista Financiero</td>\n",
       "      <td>CDT</td>\n",
       "    </tr>\n",
       "    <tr>\n",
       "      <th>2</th>\n",
       "      <td>Sara</td>\n",
       "      <td>46</td>\n",
       "      <td>8000000</td>\n",
       "      <td>Desarrollador</td>\n",
       "      <td>TC ORO</td>\n",
       "    </tr>\n",
       "    <tr>\n",
       "      <th>3</th>\n",
       "      <td>Ricardo</td>\n",
       "      <td>52</td>\n",
       "      <td>8500000</td>\n",
       "      <td>lider Técnico</td>\n",
       "      <td>TC PREMIUM</td>\n",
       "    </tr>\n",
       "    <tr>\n",
       "      <th>4</th>\n",
       "      <td>Julia</td>\n",
       "      <td>19</td>\n",
       "      <td>15000000</td>\n",
       "      <td>senador</td>\n",
       "      <td>Libranza</td>\n",
       "    </tr>\n",
       "    <tr>\n",
       "      <th>5</th>\n",
       "      <td>Sebastian</td>\n",
       "      <td>21</td>\n",
       "      <td>35000000</td>\n",
       "      <td>Manager TIC</td>\n",
       "      <td>Hipoteca</td>\n",
       "    </tr>\n",
       "  </tbody>\n",
       "</table>\n",
       "</div>"
      ],
      "text/plain": [
       "      Nombre  Edad   Salario                Cargo        Prodcuto\n",
       "0        Ana    25    250000              Aprediz  TC Estudiantil\n",
       "1      Pedro    35  50000000  Analista Financiero             CDT\n",
       "2       Sara    46   8000000        Desarrollador          TC ORO\n",
       "3    Ricardo    52   8500000        lider Técnico      TC PREMIUM\n",
       "4      Julia    19  15000000              senador        Libranza\n",
       "5  Sebastian    21  35000000          Manager TIC        Hipoteca"
      ]
     },
     "execution_count": 44,
     "metadata": {},
     "output_type": "execute_result"
    }
   ],
   "source": [
    "BaseClientes"
   ]
  },
  {
   "cell_type": "code",
   "execution_count": 46,
   "id": "5eb75a47-6684-42b7-98ec-4059a4314c71",
   "metadata": {},
   "outputs": [],
   "source": [
    "##Exportar o Guardar\n",
    "BaseClientes.to_excel(\"./Resultados/Clientes.xlsx\",index=False)"
   ]
  }
 ],
 "metadata": {
  "kernelspec": {
   "display_name": "Python 3 (ipykernel)",
   "language": "python",
   "name": "python3"
  },
  "language_info": {
   "codemirror_mode": {
    "name": "ipython",
    "version": 3
   },
   "file_extension": ".py",
   "mimetype": "text/x-python",
   "name": "python",
   "nbconvert_exporter": "python",
   "pygments_lexer": "ipython3",
   "version": "3.9.13"
  }
 },
 "nbformat": 4,
 "nbformat_minor": 5
}
