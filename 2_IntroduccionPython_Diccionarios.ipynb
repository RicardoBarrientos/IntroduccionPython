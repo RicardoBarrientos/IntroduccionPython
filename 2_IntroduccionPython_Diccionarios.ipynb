{
 "cells": [
  {
   "cell_type": "markdown",
   "id": "cf7ce573-2273-40c5-b2af-1660b9e61d35",
   "metadata": {},
   "source": [
    "# **Diccionario Python**\n",
    "\n",
    "En Python, un diccionario es una estructura de datos que permite almacenar pares clave-valor. Cada elemento en un diccionario se compone de una clave y un valor asociado. Las claves en un diccionario deben ser únicas y los valores pueden ser cualquier objeto de Python, como números, cadenas, listas o incluso otros diccionarios.\n",
    "\n",
    "Los diccionarios en Python se crea utilizando llaves ({}) y los elementos se separan por comas. Cada elemento se compone de una clave y un valor separados por dos puntos (:). Por ejemplo, el siguiente ejemplo crea un diccinario con tres elementos:"
   ]
  },
  {
   "cell_type": "code",
   "execution_count": 2,
   "id": "888c02e7-d3f4-4772-b9f3-ca054a7c89d4",
   "metadata": {},
   "outputs": [],
   "source": [
    "dicPreciosFrutas = {\"Manzanas\":1500,\"Banano\":500,\"Naranjas\":1500}"
   ]
  },
  {
   "cell_type": "code",
   "execution_count": 3,
   "id": "c8fec36e-43da-4b3d-945d-2126a849f97f",
   "metadata": {},
   "outputs": [
    {
     "data": {
      "text/plain": [
       "{'Manzanas': 1500, 'Banano': 500, 'Naranjas': 1500}"
      ]
     },
     "execution_count": 3,
     "metadata": {},
     "output_type": "execute_result"
    }
   ],
   "source": [
    "dicPreciosFrutas"
   ]
  },
  {
   "cell_type": "code",
   "execution_count": 4,
   "id": "cafc1f81-6117-4bb2-a1b8-bb193a0a4f8a",
   "metadata": {},
   "outputs": [
    {
     "data": {
      "text/plain": [
       "dict_keys(['Manzanas', 'Banano', 'Naranjas'])"
      ]
     },
     "execution_count": 4,
     "metadata": {},
     "output_type": "execute_result"
    }
   ],
   "source": [
    "## Key o claves\n",
    "dicPreciosFrutas.keys()"
   ]
  },
  {
   "cell_type": "code",
   "execution_count": 9,
   "id": "6cd4d4c6-6ea7-475c-96bd-4d1222cad762",
   "metadata": {},
   "outputs": [
    {
     "data": {
      "text/plain": [
       "dict_values([1500, 500, 1500])"
      ]
     },
     "execution_count": 9,
     "metadata": {},
     "output_type": "execute_result"
    }
   ],
   "source": [
    "## Valores\n",
    "dicPreciosFrutas.values()"
   ]
  },
  {
   "cell_type": "code",
   "execution_count": 10,
   "id": "ca8d9e0b-78dc-4989-a0d6-afc04b50b89d",
   "metadata": {},
   "outputs": [
    {
     "data": {
      "text/plain": [
       "1500"
      ]
     },
     "execution_count": 10,
     "metadata": {},
     "output_type": "execute_result"
    }
   ],
   "source": [
    "## Acceder a la información de los diccionarios\n",
    "dicPreciosFrutas.get(\"Manzanas\")"
   ]
  },
  {
   "cell_type": "code",
   "execution_count": 12,
   "id": "72673203-23ef-46e9-a09a-a5b93a8d0a17",
   "metadata": {},
   "outputs": [
    {
     "data": {
      "text/plain": [
       "500"
      ]
     },
     "execution_count": 12,
     "metadata": {},
     "output_type": "execute_result"
    }
   ],
   "source": [
    "## Otra forma de acceder a la información de los diccionarios\n",
    "dicPreciosFrutas['Banano']"
   ]
  },
  {
   "cell_type": "code",
   "execution_count": 13,
   "id": "ad55104a-a5a5-4727-a828-372fffbc61fe",
   "metadata": {},
   "outputs": [],
   "source": [
    "#Limpiar un diccionario#\n",
    "dicPreciosFrutas.clear()"
   ]
  },
  {
   "cell_type": "code",
   "execution_count": 15,
   "id": "c0c79dae-894a-4fcc-aac0-76c313b22f8f",
   "metadata": {},
   "outputs": [
    {
     "data": {
      "text/plain": [
       "{}"
      ]
     },
     "execution_count": 15,
     "metadata": {},
     "output_type": "execute_result"
    }
   ],
   "source": [
    "dicPreciosFrutas"
   ]
  },
  {
   "cell_type": "code",
   "execution_count": 17,
   "id": "84d69232-7ce2-4f2e-b25e-682072002b62",
   "metadata": {},
   "outputs": [],
   "source": [
    "dicPreciosFrutas = {\"Manzanas\":1500,\"Banano\":500,\"Naranjas\":1500}"
   ]
  },
  {
   "cell_type": "code",
   "execution_count": null,
   "id": "4b958b84-c314-4e43-bd98-6a11c2f64ab5",
   "metadata": {},
   "outputs": [],
   "source": []
  }
 ],
 "metadata": {
  "kernelspec": {
   "display_name": "Python 3 (ipykernel)",
   "language": "python",
   "name": "python3"
  },
  "language_info": {
   "codemirror_mode": {
    "name": "ipython",
    "version": 3
   },
   "file_extension": ".py",
   "mimetype": "text/x-python",
   "name": "python",
   "nbconvert_exporter": "python",
   "pygments_lexer": "ipython3",
   "version": "3.9.13"
  }
 },
 "nbformat": 4,
 "nbformat_minor": 5
}
