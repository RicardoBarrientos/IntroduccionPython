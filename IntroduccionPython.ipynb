{
  "nbformat": 4,
  "nbformat_minor": 0,
  "metadata": {
    "colab": {
      "provenance": [],
      "toc_visible": true,
      "authorship_tag": "ABX9TyO5Uf2Tv4BsZnZNm0ypfIWt",
      "include_colab_link": true
    },
    "kernelspec": {
      "name": "python3",
      "display_name": "Python 3"
    },
    "language_info": {
      "name": "python"
    }
  },
  "cells": [
    {
      "cell_type": "markdown",
      "metadata": {
        "id": "view-in-github",
        "colab_type": "text"
      },
      "source": [
        "<a href=\"https://colab.research.google.com/github/RicardoBarrientos/IntroduccionPython/blob/main/IntroduccionPython.ipynb\" target=\"_parent\"><img src=\"https://colab.research.google.com/assets/colab-badge.svg\" alt=\"Open In Colab\"/></a>"
      ]
    },
    {
      "cell_type": "code",
      "execution_count": 35,
      "metadata": {
        "id": "IBi6Mj03pd9G"
      },
      "outputs": [],
      "source": []
    },
    {
      "cell_type": "markdown",
      "source": [
        "<img src=\"https://upload.wikimedia.org/wikipedia/commons/thumb/c/c3/Python-logo-notext.svg/701px-Python-logo-notext.svg.png\" width=100, align=\"right\" >\n",
        "\n",
        "# **1) Introducción a Python**\n",
        "Python es un lenguaje de programación de alto nivel, interpretado, interactivo y orientado a objetos. Fue creado por Guido van Rossum y su primera versión fue lanzada en 1991. Python es conocido por su simplicidad y legibilidad, lo que facilita el aprendizaje y la escritura de código. Se utiliza ampliamente en diversas áreas, como desarrollo web, análisis de datos, inteligencia artificial, automatización, desarrollo de videojuegos y muchas otras aplicaciones.\n",
        "\n",
        "Python se ha utilizado en la creación de muchas aplicaciones y sitios web populares debido a su versatilidad y facilidad de uso. Algunos ejemplos notables incluyen:\n",
        "\n",
        "* Instagram\n",
        "* Spotify\n",
        "* Youtube\n",
        "* Dropbox\n",
        "* Reddit\n",
        "* Pinterest"
      ],
      "metadata": {
        "id": "e_dzz7t5tP18"
      }
    },
    {
      "cell_type": "markdown",
      "source": [
        "# **2) Python para la ciencia de datos**\n",
        "\n",
        "Según lo revelado por los resultados de una encuesta realizada por Kaggle una plataforna de científicos de datos, Python es el más usado en cuanto a lenguaje de programación, seguido de SQL y R para el tema de ciencia de Datos.\n",
        "\n",
        "A continuación se presentan algunas bibliotecas y herramientas clave de Python para la ciencia de datos:\n",
        "\n",
        "\n",
        "* NumPy: Biblioteca de Python para realizar operaciones matemáticas y de álgebra lineal con arreglos multidimensionales y funciones matriciales.\n",
        "\n",
        "* pandas: Biblioteca para la manipulación y análisis de datos que proporciona estructuras de datos como DataFrames y Series, que facilitan el trabajo con datos estructurados.\n",
        "\n",
        "* Matplotlib: Biblioteca para la creación de gráficos y visualizaciones en 2D y 3D, permitiendo la representación de datos de manera efectiva y personalizada.\n",
        "\n",
        "* seaborn: Basada en Matplotlib, seaborn es una biblioteca de visualización de datos estadísticos que proporciona una interfaz de alto nivel para crear gráficos informativos y atractivos.\n",
        "\n",
        "* SciPy: Extiende las capacidades de NumPy al incluir funciones adicionales para optimización, álgebra lineal, integración, interpolación, estadísticas, entre otras.\n",
        "\n",
        "* scikit-learn: Biblioteca de aprendizaje automático (machine learning) que incluye herramientas para clasificación, regresión, clustering, reducción de dimensionalidad, selección de modelos y preprocesamiento de datos.\n",
        "\n",
        "* TensorFlow: Desarrollada por Google, TensorFlow es una biblioteca de código abierto para la creación y entrenamiento de modelos de aprendizaje profundo (deep learning) y aprendizaje automático.\n",
        "\n",
        "* Keras: Interfaz de alto nivel para TensorFlow y otras bibliotecas de aprendizaje profundo que simplifica la creación y el entrenamiento de redes neuronales.\n",
        "\n",
        "* PyTorch: Desarrollada por Facebook, PyTorch es otra biblioteca de aprendizaje profundo que facilita la creación de modelos de aprendizaje automático con mayor flexibilidad y dinamismo.\n",
        "\n",
        "* Jupyter Notebook: Entorno de desarrollo interactivo basado en navegador para crear y compartir documentos que contienen código, ecuaciones, visualizaciones y texto explicativo.\n",
        "\n",
        "* Stastmodels: R de python"
      ],
      "metadata": {
        "id": "rCASgAJDK9yg"
      }
    },
    {
      "cell_type": "markdown",
      "source": [
        "# **3) Fundamentos de Programación en Python**"
      ],
      "metadata": {
        "id": "Fg26IObT4c4r"
      }
    },
    {
      "cell_type": "markdown",
      "source": [
        "## **3.1) Usando Python como Calculadora**"
      ],
      "metadata": {
        "id": "rrIFK68v5BSz"
      }
    },
    {
      "cell_type": "code",
      "source": [
        "# Sumar en Python\n",
        "65+96"
      ],
      "metadata": {
        "colab": {
          "base_uri": "https://localhost:8080/"
        },
        "id": "ASUFXnF82zMo",
        "outputId": "a52d98b2-fa8e-4a49-bf75-635b41a42ce1"
      },
      "execution_count": 36,
      "outputs": [
        {
          "output_type": "execute_result",
          "data": {
            "text/plain": [
              "161"
            ]
          },
          "metadata": {},
          "execution_count": 36
        }
      ]
    },
    {
      "cell_type": "code",
      "source": [
        "# Restar en Python\n",
        "100-99"
      ],
      "metadata": {
        "colab": {
          "base_uri": "https://localhost:8080/"
        },
        "id": "rCPqmf7d6dDN",
        "outputId": "26906698-a9d9-4419-e040-14ccea8513c0"
      },
      "execution_count": 37,
      "outputs": [
        {
          "output_type": "execute_result",
          "data": {
            "text/plain": [
              "1"
            ]
          },
          "metadata": {},
          "execution_count": 37
        }
      ]
    },
    {
      "cell_type": "code",
      "source": [
        "# Multiplicar en Python\n",
        "2*5\n",
        "10*100"
      ],
      "metadata": {
        "colab": {
          "base_uri": "https://localhost:8080/"
        },
        "id": "agoMCtjl6iNd",
        "outputId": "ad970c4c-dea9-474d-f056-e9fa808cc8f7"
      },
      "execution_count": 38,
      "outputs": [
        {
          "output_type": "execute_result",
          "data": {
            "text/plain": [
              "1000"
            ]
          },
          "metadata": {},
          "execution_count": 38
        }
      ]
    },
    {
      "cell_type": "code",
      "source": [
        "# Dividir en Python\n",
        "100/2"
      ],
      "metadata": {
        "colab": {
          "base_uri": "https://localhost:8080/"
        },
        "id": "HMIo8fci7QkC",
        "outputId": "ad78aea5-7e5b-4b97-bb66-ad03ccb3c033"
      },
      "execution_count": 39,
      "outputs": [
        {
          "output_type": "execute_result",
          "data": {
            "text/plain": [
              "50.0"
            ]
          },
          "metadata": {},
          "execution_count": 39
        }
      ]
    },
    {
      "cell_type": "markdown",
      "source": [
        "## **3.2) Sintaxis y estructura básica de Python**\n",
        "\n",
        "Variables y tipos de datos (números, cadenas, listas, tuplas, conjuntos, diccionarios)\n",
        "Operadores (aritméticos, de asignación, de comparación, lógicos, de identidad, de pertenencia)\n",
        "Control de flujo (condicionales: if, elif, else; bucles: for, while)"
      ],
      "metadata": {
        "id": "sNT6byAE7a1r"
      }
    },
    {
      "cell_type": "markdown",
      "source": [
        "### 3.2.1) Variables\n",
        "**¿Que es una Variable?**\n",
        "\n",
        "\"En programación, una variable está formada por un espacio en el sistema de almacenaje (memoria principal de un ordenador) y un nombre simbólico (un identificador) que está asociado a dicho espacio. Ese espacio contiene una cantidad de información conocida o desconocida, es decir un valor. El nombre de la variable es la forma usual de referirse al valor almacenado\"\n",
        "\n",
        "**Variables Númericas**"
      ],
      "metadata": {
        "id": "PA3nNZwl-8Ez"
      }
    },
    {
      "cell_type": "code",
      "source": [
        "## Enteras\n",
        "Edad=45\n",
        "Edad"
      ],
      "metadata": {
        "colab": {
          "base_uri": "https://localhost:8080/"
        },
        "id": "gMoQkKnZM9PJ",
        "outputId": "1884ff73-68e8-43b7-bd95-1ea5b4a4e824"
      },
      "execution_count": 40,
      "outputs": [
        {
          "output_type": "execute_result",
          "data": {
            "text/plain": [
              "45"
            ]
          },
          "metadata": {},
          "execution_count": 40
        }
      ]
    },
    {
      "cell_type": "code",
      "source": [
        "print(Edad)"
      ],
      "metadata": {
        "colab": {
          "base_uri": "https://localhost:8080/"
        },
        "id": "ix4HAiFCP20f",
        "outputId": "93cc08f0-d426-43fa-93ff-fd8cf7a0dd2c"
      },
      "execution_count": 41,
      "outputs": [
        {
          "output_type": "stream",
          "name": "stdout",
          "text": [
            "45\n"
          ]
        }
      ]
    },
    {
      "cell_type": "code",
      "source": [
        "print(f'El valor de la variable edad es: {Edad} años')"
      ],
      "metadata": {
        "colab": {
          "base_uri": "https://localhost:8080/"
        },
        "id": "z8LoEUB7P8Du",
        "outputId": "f54fb41f-a2c3-4935-a266-64d3c9f22cc9"
      },
      "execution_count": 42,
      "outputs": [
        {
          "output_type": "stream",
          "name": "stdout",
          "text": [
            "El valor de la variable edad es: 45 años\n"
          ]
        }
      ]
    },
    {
      "cell_type": "code",
      "source": [
        "## Decimales\n",
        "Pi=3.14"
      ],
      "metadata": {
        "id": "h-nOjWbcQB2i"
      },
      "execution_count": 43,
      "outputs": []
    },
    {
      "cell_type": "code",
      "source": [
        "print(f'El valor de la variable Pi es: {Pi} ')"
      ],
      "metadata": {
        "colab": {
          "base_uri": "https://localhost:8080/"
        },
        "id": "8oqG4H_cQCW8",
        "outputId": "e08141bd-b412-40f0-f2ab-cc8860802d6e"
      },
      "execution_count": 44,
      "outputs": [
        {
          "output_type": "stream",
          "name": "stdout",
          "text": [
            "El valor de la variable Pi es: 3.14 \n"
          ]
        }
      ]
    },
    {
      "cell_type": "code",
      "source": [
        "## Type datos\n",
        "type(Edad)"
      ],
      "metadata": {
        "colab": {
          "base_uri": "https://localhost:8080/"
        },
        "id": "-nyEl5TZQJQI",
        "outputId": "62f746bd-c4ea-45a2-b426-adb109cee0bb"
      },
      "execution_count": 45,
      "outputs": [
        {
          "output_type": "execute_result",
          "data": {
            "text/plain": [
              "int"
            ]
          },
          "metadata": {},
          "execution_count": 45
        }
      ]
    },
    {
      "cell_type": "code",
      "source": [
        "type(Pi)"
      ],
      "metadata": {
        "colab": {
          "base_uri": "https://localhost:8080/"
        },
        "id": "Kj8XQEh5QMjm",
        "outputId": "b395b33f-d45d-4a40-cf56-cbcdfde140f0"
      },
      "execution_count": 46,
      "outputs": [
        {
          "output_type": "execute_result",
          "data": {
            "text/plain": [
              "float"
            ]
          },
          "metadata": {},
          "execution_count": 46
        }
      ]
    },
    {
      "cell_type": "code",
      "source": [
        "### Transformar un float a int\n",
        "Pi_Entero=int(Pi)\n",
        "Pi_Entero"
      ],
      "metadata": {
        "colab": {
          "base_uri": "https://localhost:8080/"
        },
        "id": "-aa0sigqQP7e",
        "outputId": "607b51d2-dbd8-458e-90ee-2883bf192fe9"
      },
      "execution_count": 47,
      "outputs": [
        {
          "output_type": "execute_result",
          "data": {
            "text/plain": [
              "3"
            ]
          },
          "metadata": {},
          "execution_count": 47
        }
      ]
    },
    {
      "cell_type": "code",
      "source": [
        "## Pasa de un int a un float\n",
        "Edad_Float=float(Edad)\n",
        "Edad_Float"
      ],
      "metadata": {
        "colab": {
          "base_uri": "https://localhost:8080/"
        },
        "id": "k7d6lt0GQUBs",
        "outputId": "1707edbe-b00f-4ab4-9e83-72eeed4b841b"
      },
      "execution_count": 48,
      "outputs": [
        {
          "output_type": "execute_result",
          "data": {
            "text/plain": [
              "45.0"
            ]
          },
          "metadata": {},
          "execution_count": 48
        }
      ]
    },
    {
      "cell_type": "code",
      "source": [
        "Edad*2"
      ],
      "metadata": {
        "colab": {
          "base_uri": "https://localhost:8080/"
        },
        "id": "hRCoH4FnQZin",
        "outputId": "1df2d8d8-db06-430d-f4b0-16188777a0ea"
      },
      "execution_count": 49,
      "outputs": [
        {
          "output_type": "execute_result",
          "data": {
            "text/plain": [
              "90"
            ]
          },
          "metadata": {},
          "execution_count": 49
        }
      ]
    },
    {
      "cell_type": "code",
      "source": [
        "Edad/2"
      ],
      "metadata": {
        "colab": {
          "base_uri": "https://localhost:8080/"
        },
        "id": "ZL8463LAQoYL",
        "outputId": "e1c67d6e-235e-4fae-bd05-d219524cb1c1"
      },
      "execution_count": 50,
      "outputs": [
        {
          "output_type": "execute_result",
          "data": {
            "text/plain": [
              "22.5"
            ]
          },
          "metadata": {},
          "execution_count": 50
        }
      ]
    },
    {
      "cell_type": "code",
      "source": [
        "Edad+45"
      ],
      "metadata": {
        "colab": {
          "base_uri": "https://localhost:8080/"
        },
        "id": "3XROb5c-QqUW",
        "outputId": "42b4d58e-9eee-48cd-d285-f290d6d7cc8b"
      },
      "execution_count": 51,
      "outputs": [
        {
          "output_type": "execute_result",
          "data": {
            "text/plain": [
              "90"
            ]
          },
          "metadata": {},
          "execution_count": 51
        }
      ]
    },
    {
      "cell_type": "code",
      "source": [
        "Edad-45"
      ],
      "metadata": {
        "colab": {
          "base_uri": "https://localhost:8080/"
        },
        "id": "Psz3R4ikQsjy",
        "outputId": "4115a281-d2b6-4a3b-993d-abed34ee0b69"
      },
      "execution_count": 52,
      "outputs": [
        {
          "output_type": "execute_result",
          "data": {
            "text/plain": [
              "0"
            ]
          },
          "metadata": {},
          "execution_count": 52
        }
      ]
    },
    {
      "cell_type": "code",
      "source": [
        "## Variables String, Texto, se generan con \"\", ''\n",
        "Nombre=\"Sara\"\n",
        "Nombre1='Fabian'"
      ],
      "metadata": {
        "id": "HE24za_KQuS6"
      },
      "execution_count": 53,
      "outputs": []
    },
    {
      "cell_type": "code",
      "source": [
        "print(Nombre)\n",
        "print(Nombre1)"
      ],
      "metadata": {
        "colab": {
          "base_uri": "https://localhost:8080/"
        },
        "id": "8mahOUS_QwuQ",
        "outputId": "41bdbd3d-04a5-4f53-fb6d-2cb536814279"
      },
      "execution_count": 54,
      "outputs": [
        {
          "output_type": "stream",
          "name": "stdout",
          "text": [
            "Sara\n",
            "Fabian\n"
          ]
        }
      ]
    },
    {
      "cell_type": "code",
      "source": [
        "type(Nombre)"
      ],
      "metadata": {
        "colab": {
          "base_uri": "https://localhost:8080/"
        },
        "id": "6Nz7n-EcQzLB",
        "outputId": "9dfbb94b-234e-46fe-fc0b-b677d711c50b"
      },
      "execution_count": 55,
      "outputs": [
        {
          "output_type": "execute_result",
          "data": {
            "text/plain": [
              "str"
            ]
          },
          "metadata": {},
          "execution_count": 55
        }
      ]
    },
    {
      "cell_type": "code",
      "source": [
        "Vuelos=\"500\""
      ],
      "metadata": {
        "id": "zBL32y8pQ1PK"
      },
      "execution_count": 56,
      "outputs": []
    },
    {
      "cell_type": "code",
      "source": [
        "type(Vuelos)"
      ],
      "metadata": {
        "colab": {
          "base_uri": "https://localhost:8080/"
        },
        "id": "_PxqQhlyQ3Zs",
        "outputId": "b43e7b7b-1784-4795-8a71-571900190b52"
      },
      "execution_count": 57,
      "outputs": [
        {
          "output_type": "execute_result",
          "data": {
            "text/plain": [
              "str"
            ]
          },
          "metadata": {},
          "execution_count": 57
        }
      ]
    },
    {
      "cell_type": "code",
      "source": [
        "### Concatenar String\n",
        "Apellido=\"Villarraga\""
      ],
      "metadata": {
        "id": "ZRunxus9Q5Ej"
      },
      "execution_count": 58,
      "outputs": []
    },
    {
      "cell_type": "code",
      "source": [
        "NombreCompleto=Nombre+\" \"+Apellido"
      ],
      "metadata": {
        "id": "F2CLrEzzRSTS"
      },
      "execution_count": 59,
      "outputs": []
    },
    {
      "cell_type": "code",
      "source": [
        "NombreCompleto"
      ],
      "metadata": {
        "colab": {
          "base_uri": "https://localhost:8080/",
          "height": 35
        },
        "id": "uvp9d4jORSu9",
        "outputId": "be3b4199-ea23-4c96-a71c-ed27b1dcbc44"
      },
      "execution_count": 60,
      "outputs": [
        {
          "output_type": "execute_result",
          "data": {
            "text/plain": [
              "'Sara Villarraga'"
            ],
            "application/vnd.google.colaboratory.intrinsic+json": {
              "type": "string"
            }
          },
          "metadata": {},
          "execution_count": 60
        }
      ]
    },
    {
      "cell_type": "code",
      "source": [
        "NombreCompleto*100"
      ],
      "metadata": {
        "colab": {
          "base_uri": "https://localhost:8080/",
          "height": 122
        },
        "id": "pdBRKBGgRkN6",
        "outputId": "7f06a6a8-1e4d-4f98-f5ce-1d0a36d59eeb"
      },
      "execution_count": 61,
      "outputs": [
        {
          "output_type": "execute_result",
          "data": {
            "text/plain": [
              "'Sara VillarragaSara VillarragaSara VillarragaSara VillarragaSara VillarragaSara VillarragaSara VillarragaSara VillarragaSara VillarragaSara VillarragaSara VillarragaSara VillarragaSara VillarragaSara VillarragaSara VillarragaSara VillarragaSara VillarragaSara VillarragaSara VillarragaSara VillarragaSara VillarragaSara VillarragaSara VillarragaSara VillarragaSara VillarragaSara VillarragaSara VillarragaSara VillarragaSara VillarragaSara VillarragaSara VillarragaSara VillarragaSara VillarragaSara VillarragaSara VillarragaSara VillarragaSara VillarragaSara VillarragaSara VillarragaSara VillarragaSara VillarragaSara VillarragaSara VillarragaSara VillarragaSara VillarragaSara VillarragaSara VillarragaSara VillarragaSara VillarragaSara VillarragaSara VillarragaSara VillarragaSara VillarragaSara VillarragaSara VillarragaSara VillarragaSara VillarragaSara VillarragaSara VillarragaSara VillarragaSara VillarragaSara VillarragaSara VillarragaSara VillarragaSara VillarragaSara VillarragaSara VillarragaSara VillarragaSara VillarragaSara VillarragaSara VillarragaSara VillarragaSara VillarragaSara VillarragaSara VillarragaSara VillarragaSara VillarragaSara VillarragaSara VillarragaSara VillarragaSara VillarragaSara VillarragaSara VillarragaSara VillarragaSara VillarragaSara VillarragaSara VillarragaSara VillarragaSara VillarragaSara VillarragaSara VillarragaSara VillarragaSara VillarragaSara VillarragaSara VillarragaSara VillarragaSara VillarragaSara VillarragaSara VillarragaSara Villarraga'"
            ],
            "application/vnd.google.colaboratory.intrinsic+json": {
              "type": "string"
            }
          },
          "metadata": {},
          "execution_count": 61
        }
      ]
    },
    {
      "cell_type": "code",
      "source": [
        "## Acceder a las letras del string, la primera posición en python es 0\n",
        "NombreCompleto[0]"
      ],
      "metadata": {
        "colab": {
          "base_uri": "https://localhost:8080/",
          "height": 35
        },
        "id": "BydDG-_VRn8J",
        "outputId": "eb822df7-9b91-4fee-947f-25acbcee6322"
      },
      "execution_count": 62,
      "outputs": [
        {
          "output_type": "execute_result",
          "data": {
            "text/plain": [
              "'S'"
            ],
            "application/vnd.google.colaboratory.intrinsic+json": {
              "type": "string"
            }
          },
          "metadata": {},
          "execution_count": 62
        }
      ]
    },
    {
      "cell_type": "code",
      "source": [
        "len(NombreCompleto) ## Len nos da la cantidad de elementos"
      ],
      "metadata": {
        "colab": {
          "base_uri": "https://localhost:8080/"
        },
        "id": "GjWKp1jRRuR9",
        "outputId": "8bdd64e0-8591-4701-d0be-e0eebe56b086"
      },
      "execution_count": 63,
      "outputs": [
        {
          "output_type": "execute_result",
          "data": {
            "text/plain": [
              "15"
            ]
          },
          "metadata": {},
          "execution_count": 63
        }
      ]
    },
    {
      "cell_type": "code",
      "source": [
        "NombreCompleto[14] ## última posición"
      ],
      "metadata": {
        "colab": {
          "base_uri": "https://localhost:8080/",
          "height": 35
        },
        "id": "B9DqFGP0RyHa",
        "outputId": "4d8c2484-783e-4e31-ea5c-89160cb40ac6"
      },
      "execution_count": 64,
      "outputs": [
        {
          "output_type": "execute_result",
          "data": {
            "text/plain": [
              "'a'"
            ],
            "application/vnd.google.colaboratory.intrinsic+json": {
              "type": "string"
            }
          },
          "metadata": {},
          "execution_count": 64
        }
      ]
    },
    {
      "cell_type": "code",
      "source": [
        "NombreCompleto[-1] ## última posición"
      ],
      "metadata": {
        "colab": {
          "base_uri": "https://localhost:8080/",
          "height": 35
        },
        "id": "DuXYc3GRR2Ty",
        "outputId": "e5446fb4-6268-4fa1-b300-a6211ba01fe1"
      },
      "execution_count": 65,
      "outputs": [
        {
          "output_type": "execute_result",
          "data": {
            "text/plain": [
              "'a'"
            ],
            "application/vnd.google.colaboratory.intrinsic+json": {
              "type": "string"
            }
          },
          "metadata": {},
          "execution_count": 65
        }
      ]
    },
    {
      "cell_type": "code",
      "source": [
        "NombreCompleto[-2]"
      ],
      "metadata": {
        "colab": {
          "base_uri": "https://localhost:8080/",
          "height": 35
        },
        "id": "HJ5Alkj5R5VJ",
        "outputId": "34af9ebc-8bb7-4f34-887a-d389dde7a895"
      },
      "execution_count": 66,
      "outputs": [
        {
          "output_type": "execute_result",
          "data": {
            "text/plain": [
              "'g'"
            ],
            "application/vnd.google.colaboratory.intrinsic+json": {
              "type": "string"
            }
          },
          "metadata": {},
          "execution_count": 66
        }
      ]
    },
    {
      "cell_type": "code",
      "source": [
        "NombreCompleto[-3]"
      ],
      "metadata": {
        "colab": {
          "base_uri": "https://localhost:8080/",
          "height": 35
        },
        "id": "REQGUTwnR7jz",
        "outputId": "b5613ab7-d49e-4417-e1e7-77aa748361b6"
      },
      "execution_count": 67,
      "outputs": [
        {
          "output_type": "execute_result",
          "data": {
            "text/plain": [
              "'a'"
            ],
            "application/vnd.google.colaboratory.intrinsic+json": {
              "type": "string"
            }
          },
          "metadata": {},
          "execution_count": 67
        }
      ]
    },
    {
      "cell_type": "code",
      "source": [
        "NombreCompleto[0:4]"
      ],
      "metadata": {
        "colab": {
          "base_uri": "https://localhost:8080/",
          "height": 35
        },
        "id": "1lQ_0zfLR99G",
        "outputId": "e1e64f8f-f021-4b05-8bc0-0ef6cd4daca1"
      },
      "execution_count": 68,
      "outputs": [
        {
          "output_type": "execute_result",
          "data": {
            "text/plain": [
              "'Sara'"
            ],
            "application/vnd.google.colaboratory.intrinsic+json": {
              "type": "string"
            }
          },
          "metadata": {},
          "execution_count": 68
        }
      ]
    },
    {
      "cell_type": "code",
      "source": [
        "NombreCompleto"
      ],
      "metadata": {
        "colab": {
          "base_uri": "https://localhost:8080/",
          "height": 35
        },
        "id": "VdvXns4FR_8Y",
        "outputId": "628e58cd-1a17-4612-d894-cd84e115fad7"
      },
      "execution_count": 69,
      "outputs": [
        {
          "output_type": "execute_result",
          "data": {
            "text/plain": [
              "'Sara Villarraga'"
            ],
            "application/vnd.google.colaboratory.intrinsic+json": {
              "type": "string"
            }
          },
          "metadata": {},
          "execution_count": 69
        }
      ]
    },
    {
      "cell_type": "code",
      "source": [
        "## Separar String\n",
        "NombreCompleto.split(\" \")"
      ],
      "metadata": {
        "colab": {
          "base_uri": "https://localhost:8080/"
        },
        "id": "_2mrlxhkSCzP",
        "outputId": "de937a70-7171-4746-d51c-c338d29fe993"
      },
      "execution_count": 70,
      "outputs": [
        {
          "output_type": "execute_result",
          "data": {
            "text/plain": [
              "['Sara', 'Villarraga']"
            ]
          },
          "metadata": {},
          "execution_count": 70
        }
      ]
    },
    {
      "cell_type": "markdown",
      "source": [
        "### 3.2.2) Extructuras de Datos\n",
        "Las estructuras de datos más comunes en Python son las listas, las tablas y los diccionarios\n",
        "\n",
        "##Listas##\n",
        "\n",
        "Una lista en Python es una estructura de datos formada por una secuencia ordenada de objetos"
      ],
      "metadata": {
        "id": "POzQevsSOJOK"
      }
    },
    {
      "cell_type": "code",
      "source": [
        "## Una lista siempre se crea con []\n",
        "Lista_Edades=[] ## Una lista Vacia\n",
        "     "
      ],
      "metadata": {
        "id": "sG91PTSwRvpr"
      },
      "execution_count": 71,
      "outputs": []
    },
    {
      "cell_type": "code",
      "source": [
        "Lista_Edades"
      ],
      "metadata": {
        "colab": {
          "base_uri": "https://localhost:8080/"
        },
        "id": "SJqe8XeKOR1D",
        "outputId": "fb001811-cd71-490b-abab-51c8a0ab4f18"
      },
      "execution_count": 72,
      "outputs": [
        {
          "output_type": "execute_result",
          "data": {
            "text/plain": [
              "[]"
            ]
          },
          "metadata": {},
          "execution_count": 72
        }
      ]
    },
    {
      "cell_type": "code",
      "source": [
        "type(Lista_Edades)"
      ],
      "metadata": {
        "colab": {
          "base_uri": "https://localhost:8080/"
        },
        "id": "ZfhYdUKHSLLB",
        "outputId": "5011266d-37da-4058-d1da-88673c7bee06"
      },
      "execution_count": 73,
      "outputs": [
        {
          "output_type": "execute_result",
          "data": {
            "text/plain": [
              "list"
            ]
          },
          "metadata": {},
          "execution_count": 73
        }
      ]
    },
    {
      "cell_type": "code",
      "source": [
        "Lista_Edades=[24,35,56,41,30,22,18,17,10]"
      ],
      "metadata": {
        "id": "TND4SaMqSMog"
      },
      "execution_count": 74,
      "outputs": []
    },
    {
      "cell_type": "code",
      "source": [
        "print(Lista_Edades)"
      ],
      "metadata": {
        "colab": {
          "base_uri": "https://localhost:8080/"
        },
        "id": "OWEe3ZTXSPbB",
        "outputId": "8a795ac6-8341-4a6a-8300-1a95f6d211dc"
      },
      "execution_count": 75,
      "outputs": [
        {
          "output_type": "stream",
          "name": "stdout",
          "text": [
            "[24, 35, 56, 41, 30, 22, 18, 17, 10]\n"
          ]
        }
      ]
    },
    {
      "cell_type": "code",
      "source": [
        "## Acceder a la información\n",
        "Lista_Edades[0]"
      ],
      "metadata": {
        "colab": {
          "base_uri": "https://localhost:8080/"
        },
        "id": "sobugugWSSPF",
        "outputId": "d30b7c18-dac5-400f-941c-05c462cf3287"
      },
      "execution_count": 76,
      "outputs": [
        {
          "output_type": "execute_result",
          "data": {
            "text/plain": [
              "24"
            ]
          },
          "metadata": {},
          "execution_count": 76
        }
      ]
    },
    {
      "cell_type": "code",
      "source": [
        "Lista_Edades[2]"
      ],
      "metadata": {
        "colab": {
          "base_uri": "https://localhost:8080/"
        },
        "id": "BTc-AXkOSVHT",
        "outputId": "489cee49-cc0e-48ac-f71c-bc98c1450cad"
      },
      "execution_count": 77,
      "outputs": [
        {
          "output_type": "execute_result",
          "data": {
            "text/plain": [
              "56"
            ]
          },
          "metadata": {},
          "execution_count": 77
        }
      ]
    },
    {
      "cell_type": "code",
      "source": [
        "len(Lista_Edades) # Elementos de la lista"
      ],
      "metadata": {
        "colab": {
          "base_uri": "https://localhost:8080/"
        },
        "id": "yjYmW4htSXc-",
        "outputId": "62fc3a30-1095-4e7a-a598-2658e988429b"
      },
      "execution_count": 78,
      "outputs": [
        {
          "output_type": "execute_result",
          "data": {
            "text/plain": [
              "9"
            ]
          },
          "metadata": {},
          "execution_count": 78
        }
      ]
    },
    {
      "cell_type": "code",
      "source": [
        "Lista_Edades[8]"
      ],
      "metadata": {
        "colab": {
          "base_uri": "https://localhost:8080/"
        },
        "id": "-RT0OEh_SZ7N",
        "outputId": "6743504f-9f85-4e2f-d313-025b38fe9ecc"
      },
      "execution_count": 79,
      "outputs": [
        {
          "output_type": "execute_result",
          "data": {
            "text/plain": [
              "10"
            ]
          },
          "metadata": {},
          "execution_count": 79
        }
      ]
    },
    {
      "cell_type": "code",
      "source": [
        "Lista_Edades[-1] # último dato"
      ],
      "metadata": {
        "colab": {
          "base_uri": "https://localhost:8080/"
        },
        "id": "3mqbqgzXSb1i",
        "outputId": "0854d88b-349b-475f-af4b-37fded1482ab"
      },
      "execution_count": 80,
      "outputs": [
        {
          "output_type": "execute_result",
          "data": {
            "text/plain": [
              "10"
            ]
          },
          "metadata": {},
          "execution_count": 80
        }
      ]
    },
    {
      "cell_type": "code",
      "source": [
        "Lista_Edades[-2] # último dato"
      ],
      "metadata": {
        "colab": {
          "base_uri": "https://localhost:8080/"
        },
        "id": "XfFpkwTrSd9-",
        "outputId": "59deb3e1-9f99-4c89-b92c-983536c66b33"
      },
      "execution_count": 81,
      "outputs": [
        {
          "output_type": "execute_result",
          "data": {
            "text/plain": [
              "17"
            ]
          },
          "metadata": {},
          "execution_count": 81
        }
      ]
    },
    {
      "cell_type": "code",
      "source": [
        "Lista_Edades[0:3] "
      ],
      "metadata": {
        "colab": {
          "base_uri": "https://localhost:8080/"
        },
        "id": "AwsJDJ4eSfpi",
        "outputId": "e16a3ca6-2c44-4c41-8033-3e62d5a686f1"
      },
      "execution_count": 82,
      "outputs": [
        {
          "output_type": "execute_result",
          "data": {
            "text/plain": [
              "[24, 35, 56]"
            ]
          },
          "metadata": {},
          "execution_count": 82
        }
      ]
    },
    {
      "cell_type": "code",
      "source": [
        "## Agregar Datos Nuevos con el comando append, siempre agrega al final el dato\n",
        "Lista_Edades.append(102)"
      ],
      "metadata": {
        "id": "7kky1WzLShRm"
      },
      "execution_count": 83,
      "outputs": []
    },
    {
      "cell_type": "code",
      "source": [
        "Lista_Edades"
      ],
      "metadata": {
        "colab": {
          "base_uri": "https://localhost:8080/"
        },
        "id": "VGkni2_jSuXJ",
        "outputId": "e2493ae2-5fcd-4ac8-e254-174072190794"
      },
      "execution_count": 84,
      "outputs": [
        {
          "output_type": "execute_result",
          "data": {
            "text/plain": [
              "[24, 35, 56, 41, 30, 22, 18, 17, 10, 102]"
            ]
          },
          "metadata": {},
          "execution_count": 84
        }
      ]
    },
    {
      "cell_type": "code",
      "source": [
        "Lista_Edades.append(12)"
      ],
      "metadata": {
        "id": "S0ZUR63-SyTg"
      },
      "execution_count": 85,
      "outputs": []
    },
    {
      "cell_type": "code",
      "source": [
        "Lista_Edades"
      ],
      "metadata": {
        "colab": {
          "base_uri": "https://localhost:8080/"
        },
        "id": "_U3UqsKVSz_r",
        "outputId": "ec5c9f78-8adb-4808-a78f-46fefe63b5df"
      },
      "execution_count": 86,
      "outputs": [
        {
          "output_type": "execute_result",
          "data": {
            "text/plain": [
              "[24, 35, 56, 41, 30, 22, 18, 17, 10, 102, 12]"
            ]
          },
          "metadata": {},
          "execution_count": 86
        }
      ]
    },
    {
      "cell_type": "code",
      "source": [
        "## Agregar manipulando la posición\n",
        "Lista_Edades.insert(0,15)"
      ],
      "metadata": {
        "id": "8sM6vNQGS2gu"
      },
      "execution_count": 87,
      "outputs": []
    },
    {
      "cell_type": "code",
      "source": [
        "Lista_Edades"
      ],
      "metadata": {
        "colab": {
          "base_uri": "https://localhost:8080/"
        },
        "id": "zTNci_6jS4p2",
        "outputId": "1a04be86-0dd6-4a3c-a42b-151d3b5da40f"
      },
      "execution_count": 88,
      "outputs": [
        {
          "output_type": "execute_result",
          "data": {
            "text/plain": [
              "[15, 24, 35, 56, 41, 30, 22, 18, 17, 10, 102, 12]"
            ]
          },
          "metadata": {},
          "execution_count": 88
        }
      ]
    },
    {
      "cell_type": "code",
      "source": [
        "Lista_Edades.insert(0,25)"
      ],
      "metadata": {
        "id": "2CYCg1RuS6r7"
      },
      "execution_count": 89,
      "outputs": []
    },
    {
      "cell_type": "code",
      "source": [
        "Lista_Edades"
      ],
      "metadata": {
        "colab": {
          "base_uri": "https://localhost:8080/"
        },
        "id": "CxzCCO13S8ll",
        "outputId": "f546a1b6-69a9-46e3-e6f5-b7a4aa0c2189"
      },
      "execution_count": 90,
      "outputs": [
        {
          "output_type": "execute_result",
          "data": {
            "text/plain": [
              "[25, 15, 24, 35, 56, 41, 30, 22, 18, 17, 10, 102, 12]"
            ]
          },
          "metadata": {},
          "execution_count": 90
        }
      ]
    },
    {
      "cell_type": "code",
      "source": [
        "Lista_Edades.insert(2,25)"
      ],
      "metadata": {
        "id": "7d3jLOALS-1D"
      },
      "execution_count": 91,
      "outputs": []
    },
    {
      "cell_type": "code",
      "source": [
        "Lista_Edades"
      ],
      "metadata": {
        "colab": {
          "base_uri": "https://localhost:8080/"
        },
        "id": "mJB-YMKITDSh",
        "outputId": "80310365-611a-400e-d9c6-0e3606982396"
      },
      "execution_count": 92,
      "outputs": [
        {
          "output_type": "execute_result",
          "data": {
            "text/plain": [
              "[25, 15, 25, 24, 35, 56, 41, 30, 22, 18, 17, 10, 102, 12]"
            ]
          },
          "metadata": {},
          "execution_count": 92
        }
      ]
    },
    {
      "cell_type": "markdown",
      "source": [
        "# Ejercicio##\n",
        "• Ejercicio 1: Encuentre el área de un triángulo rectángulo isósceles a partir de la longitud de sus catetos, ingresados por el usuario. Recuerde que un triángulo isósceles tiene dos lados iguales y que el área de un triángulo está dada por: (base * altura)/2"
      ],
      "metadata": {
        "id": "fIWbw0yKOnOm"
      }
    },
    {
      "cell_type": "code",
      "source": [
        "Edad=int(input(\"Ingrese su edad\")) ## un input siempre genera un string"
      ],
      "metadata": {
        "colab": {
          "base_uri": "https://localhost:8080/"
        },
        "id": "cDijmN-BOrZ7",
        "outputId": "7217dff4-7592-4cd8-8cd0-ef4986223f8c"
      },
      "execution_count": 93,
      "outputs": [
        {
          "name": "stdout",
          "output_type": "stream",
          "text": [
            "Ingrese su edad45\n"
          ]
        }
      ]
    },
    {
      "cell_type": "code",
      "source": [
        "Edad  "
      ],
      "metadata": {
        "colab": {
          "base_uri": "https://localhost:8080/"
        },
        "id": "6c7wcKfPPNKB",
        "outputId": "c9ceb71a-7542-4db1-be3e-76a82c581b07"
      },
      "execution_count": 94,
      "outputs": [
        {
          "output_type": "execute_result",
          "data": {
            "text/plain": [
              "45"
            ]
          },
          "metadata": {},
          "execution_count": 94
        }
      ]
    },
    {
      "cell_type": "code",
      "source": [
        "type(Edad)"
      ],
      "metadata": {
        "colab": {
          "base_uri": "https://localhost:8080/"
        },
        "id": "h5sbjxp8PYCo",
        "outputId": "38683a7b-4545-45f8-cae9-34ab7d1f94f4"
      },
      "execution_count": 95,
      "outputs": [
        {
          "output_type": "execute_result",
          "data": {
            "text/plain": [
              "int"
            ]
          },
          "metadata": {},
          "execution_count": 95
        }
      ]
    },
    {
      "cell_type": "code",
      "source": [
        "## Usuario ingresa el año de nacimiento, yo le calculo la edad que tiene en el 2023\n",
        "Anio_Naciemiento=int(input(\"Ingrese su año de nacimiento\")) ## un input siempre genera un string\n",
        "EdadActual=2023-Anio_Naciemiento\n",
        "print(f'Su edad en el 2023 es: {EdadActual}')"
      ],
      "metadata": {
        "colab": {
          "base_uri": "https://localhost:8080/"
        },
        "id": "MD45jfSiPYye",
        "outputId": "cd53d727-aabc-4c52-e062-aa516cf28ff9"
      },
      "execution_count": 96,
      "outputs": [
        {
          "output_type": "stream",
          "name": "stdout",
          "text": [
            "Ingrese su año de nacimiento1981\n",
            "Su edad en el 2023 es: 42\n"
          ]
        }
      ]
    },
    {
      "cell_type": "code",
      "source": [],
      "metadata": {
        "id": "j22ZY8kFPnGo"
      },
      "execution_count": 96,
      "outputs": []
    }
  ]
}